{
  "nbformat": 4,
  "nbformat_minor": 0,
  "metadata": {
    "colab": {
      "provenance": [],
      "include_colab_link": true
    },
    "kernelspec": {
      "name": "python3",
      "display_name": "Python 3"
    },
    "language_info": {
      "name": "python"
    }
  },
  "cells": [
    {
      "cell_type": "markdown",
      "metadata": {
        "id": "view-in-github",
        "colab_type": "text"
      },
      "source": [
        "<a href=\"https://colab.research.google.com/github/Distiner13/Investing/blob/main/code-rep/Sentiment_Analysis.ipynb\" target=\"_parent\"><img src=\"https://colab.research.google.com/assets/colab-badge.svg\" alt=\"Open In Colab\"/></a>"
      ]
    },
    {
      "cell_type": "code",
      "source": [
        "import nltk\n",
        "from nltk.sentiment import SentimentIntensityAnalyzer\n",
        "\n",
        "# Download the VADER lexicon\n",
        "nltk.download('vader_lexicon')\n",
        "\n",
        "# List of social media posts about Baidu\n",
        "# List of social media posts about different companies\n",
        "tesla_posts = [\n",
        "    \"Just ordered a Tesla Model 3! Can't wait for it to arrive!\",\n",
        "    \"Tesla's stock price is soaring today. #bullish\",\n",
        "    \"Had a great test drive with a Tesla Model S. Impressive performance!\",\n",
        "    \"Concerned about the delays in Tesla's production schedule.\",\n",
        "    \"Elon Musk's latest tweet about Tesla's AI capabilities is intriguing.\",\n",
        "    \"Considering investing in Tesla stocks. Any advice?\",\n",
        "    \"Tesla's battery technology is revolutionary. #innovation\",\n",
        "    \"Just installed Tesla's latest software update. Love the new features!\",\n",
        "    \"Tesla's autopilot system saved me from an accident. Grateful for the technology!\",\n",
        "    \"Attended a Tesla event. Exciting announcements about the future of electric vehicles.\",\n",
        "    \"Mixed sentiments about Tesla's Cybertruck design. What do you think?\"\n",
        "]\n",
        "\n",
        "amazon_posts = [\n",
        "    \"Amazon Prime delivery arrived earlier than expected. Great service!\",\n",
        "    \"Amazon's earnings report exceeded expectations. #bullish\",\n",
        "    \"Just ordered a new book from Amazon. Love their selection!\",\n",
        "    \"Concerned about Amazon's impact on small businesses.\",\n",
        "    \"Amazon Web Services (AWS) outage caused disruptions for many websites.\",\n",
        "    \"Considering subscribing to Amazon Prime. Is it worth it?\",\n",
        "    \"Amazon's expansion into healthcare is making waves in the industry.\",\n",
        "    \"Received a defective product from Amazon. Disappointed with the quality.\",\n",
        "    \"Amazon's sustainability initiatives are commendable. #environment\",\n",
        "    \"Excited about Amazon's new headquarters opening in my city.\",\n",
        "    \"Mixed opinions about Amazon's labor practices. #ethics\"\n",
        "]\n",
        "\n",
        "apple_posts = [\n",
        "    \"Got the new iPhone! It's amazing!\",\n",
        "    \"Apple's stock split announcement has investors excited. #bullish\",\n",
        "    \"Just upgraded my MacBook. Loving the performance!\",\n",
        "    \"Concerned about the privacy implications of Apple's latest iOS update.\",\n",
        "    \"Apple's customer service always exceeds my expectations.\",\n",
        "    \"Considering buying AppleCare for my iPhone. Is it worth it?\",\n",
        "    \"Apple's commitment to renewable energy is admirable. #sustainability\",\n",
        "    \"Received excellent support from the Apple Store. Thank you!\",\n",
        "    \"Excited to try out Apple Fitness+. #workout\",\n",
        "    \"Attended an Apple event. Impressed by the new product lineup.\",\n",
        "    \"Mixed feelings about Apple's decision to remove the headphone jack from iPhones.\"\n",
        "]\n",
        "\n",
        "meta_posts = [\n",
        "    \"Just shared a memory on Facebook. Love looking back on old photos!\",\n",
        "    \"Meta's stock price is down today. #bearish\",\n",
        "    \"Meta's Oculus Quest 2 is a game-changer for virtual reality.\",\n",
        "    \"Concerned about the impact of misinformation on Meta's platforms.\",\n",
        "    \"Meta's advertising revenue continues to grow steadily.\",\n",
        "    \"Considering deleting my Facebook account due to privacy concerns.\",\n",
        "    \"Meta's commitment to building the metaverse is exciting. #futuretech\",\n",
        "    \"Received a warning from Meta about violating community guidelines.\",\n",
        "    \"Excited to try out Meta's new Horizon Worlds. #virtualreality\",\n",
        "    \"Mixed opinions about Meta's decision to rebrand from Facebook.\",\n",
        "    \"Meta's recent acquisition of a gaming company is generating buzz.\"\n",
        "]\n",
        "\n",
        "baidu_posts = [\n",
        "    \"Just used Baidu Maps to navigate through the city. Worked like a charm!\",\n",
        "    \"Baidu's stock price is fluctuating today. #marketvolatility\",\n",
        "    \"Impressed by Baidu's advancements in AI technology.\",\n",
        "    \"Concerned about Baidu's handling of user data.\",\n",
        "    \"Baidu's autonomous driving project is making progress.\",\n",
        "    \"Considering investing in Baidu stocks. Any insights?\",\n",
        "    \"Baidu's voice recognition technology is impressive. #innovation\",\n",
        "    \"Received error messages while using Baidu search. Frustrating experience.\",\n",
        "    \"Excited about Baidu's collaboration with a healthcare company.\",\n",
        "    \"Attended a Baidu conference. Interesting discussions on AI and privacy.\",\n",
        "    \"Mixed opinions about Baidu's recent partnership with a government agency.\"\n",
        "]\n",
        "\n",
        "company_posts_dict = {\n",
        "    'TSLA': tesla_posts,\n",
        "    'AMZN': amazon_posts,\n",
        "    'AAPL': apple_posts,\n",
        "    'META': meta_posts,\n",
        "    'BIDU': baidu_posts,\n",
        "}\n",
        "\n",
        "\n",
        "analyzer = SentimentIntensityAnalyzer()\n",
        "\n",
        "# Loop through the dictionary and conduct sentiment analysis for each company\n",
        "for company, posts in company_posts_dict.items():\n",
        "    total_compound_score = 0.0\n",
        "    num_posts = len(posts)\n",
        "\n",
        "    # Loop through the social media posts, analyze each post's sentiment, and accumulate compound scores\n",
        "    for post in posts:\n",
        "        sentiment_scores = analyzer.polarity_scores(post)\n",
        "        total_compound_score += sentiment_scores['compound']\n",
        "\n",
        "    # Calculate the average compound score for the company\n",
        "    average_compound_score = total_compound_score / num_posts\n",
        "\n",
        "    # Print the results\n",
        "    print(f\"Company: {company}\")\n",
        "    print(f\"Average Compound Score: {average_compound_score}\")\n",
        "    print(\"\\n---\\n\")\n"
      ],
      "metadata": {
        "colab": {
          "base_uri": "https://localhost:8080/"
        },
        "id": "_1oaEzkMZRXO",
        "outputId": "3535cd2d-427d-4962-aafa-0f65b39be508"
      },
      "execution_count": null,
      "outputs": [
        {
          "output_type": "stream",
          "name": "stdout",
          "text": [
            "Company: TSLA\n",
            "Average Compound Score: 0.22251818181818184\n",
            "\n",
            "---\n",
            "\n",
            "Company: AMZN\n",
            "Average Compound Score: 0.12328181818181817\n",
            "\n",
            "---\n",
            "\n",
            "Company: AAPL\n",
            "Average Compound Score: 0.3938363636363636\n",
            "\n",
            "---\n",
            "\n",
            "Company: META\n",
            "Average Compound Score: 0.07240909090909092\n",
            "\n",
            "---\n",
            "\n",
            "Company: BIDU\n",
            "Average Compound Score: 0.19450000000000003\n",
            "\n",
            "---\n",
            "\n"
          ]
        },
        {
          "output_type": "stream",
          "name": "stderr",
          "text": [
            "[nltk_data] Downloading package vader_lexicon to /root/nltk_data...\n",
            "[nltk_data]   Package vader_lexicon is already up-to-date!\n"
          ]
        }
      ]
    },
    {
      "cell_type": "code",
      "source": [],
      "metadata": {
        "id": "RXxU2wAEb1hS"
      },
      "execution_count": null,
      "outputs": []
    }
  ]
}